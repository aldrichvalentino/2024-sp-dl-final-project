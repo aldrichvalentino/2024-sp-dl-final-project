{
  "cells": [
    {
      "cell_type": "markdown",
      "source": [
        "# Deep Q-Learning for Enduro\n",
        "This notebook implements and optimizes the Deep Q-Network (DQN) proposed by [Mnih et al.](https://storage.googleapis.com/deepmind-media/dqn/DQNNaturePaper.pdf) to play the Atari game, Enduro.  The implmentation was inspired by this [repository](https://github.com/Curt-Park/rainbow-is-all-you-need) of a basic DQN architecture. The game is simulated through environments made available by Open-AI's [gym](https://gymnasium.farama.org/environments/atari/) API.\n",
        "\n"
      ],
      "metadata": {
        "id": "ZCofUHZZL5L_"
      }
    },
    {
      "cell_type": "markdown",
      "source": [
        "# Install necessary packages\n",
        "\n",
        "We will be reverting to an older version of the gym API to resolve compatability issues."
      ],
      "metadata": {
        "id": "AYWbjb-aN3Rp"
      }
    },
    {
      "cell_type": "code",
      "execution_count": 8,
      "metadata": {
        "colab": {
          "base_uri": "https://localhost:8080/"
        },
        "id": "U7loJckqD7t1",
        "outputId": "18b815db-c1c0-463d-f5d6-fd1c062167c5"
      },
      "outputs": [
        {
          "output_type": "stream",
          "name": "stdout",
          "text": [
            "Requirement already satisfied: gym in /usr/local/lib/python3.10/dist-packages (0.25.2)\n",
            "Requirement already satisfied: numpy>=1.18.0 in /usr/local/lib/python3.10/dist-packages (from gym) (1.25.2)\n",
            "Requirement already satisfied: cloudpickle>=1.2.0 in /usr/local/lib/python3.10/dist-packages (from gym) (2.2.1)\n",
            "Requirement already satisfied: gym-notices>=0.0.4 in /usr/local/lib/python3.10/dist-packages (from gym) (0.0.8)\n",
            "Collecting gym==0.19.0\n",
            "  Using cached gym-0.19.0.tar.gz (1.6 MB)\n",
            "  \u001b[1;31merror\u001b[0m: \u001b[1msubprocess-exited-with-error\u001b[0m\n",
            "  \n",
            "  \u001b[31m×\u001b[0m \u001b[32mpython setup.py egg_info\u001b[0m did not run successfully.\n",
            "  \u001b[31m│\u001b[0m exit code: \u001b[1;36m1\u001b[0m\n",
            "  \u001b[31m╰─>\u001b[0m See above for output.\n",
            "  \n",
            "  \u001b[1;35mnote\u001b[0m: This error originates from a subprocess, and is likely not a problem with pip.\n",
            "  Preparing metadata (setup.py) ... \u001b[?25l\u001b[?25herror\n",
            "\u001b[1;31merror\u001b[0m: \u001b[1mmetadata-generation-failed\u001b[0m\n",
            "\n",
            "\u001b[31m×\u001b[0m Encountered error while generating package metadata.\n",
            "\u001b[31m╰─>\u001b[0m See above for output.\n",
            "\n",
            "\u001b[1;35mnote\u001b[0m: This is an issue with the package mentioned above, not pip.\n",
            "\u001b[1;36mhint\u001b[0m: See above for details.\n",
            "Requirement already satisfied: gym[atari] in /usr/local/lib/python3.10/dist-packages (0.25.2)\n",
            "Requirement already satisfied: numpy>=1.18.0 in /usr/local/lib/python3.10/dist-packages (from gym[atari]) (1.25.2)\n",
            "Requirement already satisfied: cloudpickle>=1.2.0 in /usr/local/lib/python3.10/dist-packages (from gym[atari]) (2.2.1)\n",
            "Requirement already satisfied: gym-notices>=0.0.4 in /usr/local/lib/python3.10/dist-packages (from gym[atari]) (0.0.8)\n",
            "Requirement already satisfied: ale-py~=0.7.5 in /usr/local/lib/python3.10/dist-packages (from gym[atari]) (0.7.5)\n",
            "Requirement already satisfied: importlib-resources in /usr/local/lib/python3.10/dist-packages (from ale-py~=0.7.5->gym[atari]) (6.4.0)\n",
            "Requirement already satisfied: autorom[accept-rom-license] in /usr/local/lib/python3.10/dist-packages (0.6.1)\n",
            "Requirement already satisfied: click in /usr/local/lib/python3.10/dist-packages (from autorom[accept-rom-license]) (8.1.7)\n",
            "Requirement already satisfied: requests in /usr/local/lib/python3.10/dist-packages (from autorom[accept-rom-license]) (2.31.0)\n",
            "Requirement already satisfied: AutoROM.accept-rom-license in /usr/local/lib/python3.10/dist-packages (from autorom[accept-rom-license]) (0.6.1)\n",
            "Requirement already satisfied: charset-normalizer<4,>=2 in /usr/local/lib/python3.10/dist-packages (from requests->autorom[accept-rom-license]) (3.3.2)\n",
            "Requirement already satisfied: idna<4,>=2.5 in /usr/local/lib/python3.10/dist-packages (from requests->autorom[accept-rom-license]) (3.7)\n",
            "Requirement already satisfied: urllib3<3,>=1.21.1 in /usr/local/lib/python3.10/dist-packages (from requests->autorom[accept-rom-license]) (2.0.7)\n",
            "Requirement already satisfied: certifi>=2017.4.17 in /usr/local/lib/python3.10/dist-packages (from requests->autorom[accept-rom-license]) (2024.2.2)\n",
            "Requirement already satisfied: typing-extensions in /usr/local/lib/python3.10/dist-packages (4.11.0)\n"
          ]
        }
      ],
      "source": [
        "!pip install gym\n",
        "!pip install --upgrade gym==0.19.0\n",
        "!pip install gym[atari]\n",
        "!pip install autorom[accept-rom-license]\n",
        "!pip install typing-extensions --upgrade"
      ]
    },
    {
      "cell_type": "markdown",
      "source": [
        "# Import libraries and set RNG seed for reproducability"
      ],
      "metadata": {
        "id": "UPtQsx-rOMHi"
      }
    },
    {
      "cell_type": "code",
      "execution_count": 9,
      "metadata": {
        "id": "BnB-LxEQCrWZ",
        "colab": {
          "base_uri": "https://localhost:8080/"
        },
        "outputId": "12edcead-f851-4e4f-a021-16e97db0ee99"
      },
      "outputs": [
        {
          "output_type": "execute_result",
          "data": {
            "text/plain": [
              "<torch._C.Generator at 0x7cb2f0f7ad90>"
            ]
          },
          "metadata": {},
          "execution_count": 9
        }
      ],
      "source": [
        "import numpy as np\n",
        "\n",
        "import torch\n",
        "import torch.nn as nn\n",
        "import torch.nn.functional as f\n",
        "import torch.optim as optim\n",
        "\n",
        "import collections\n",
        "import cv2\n",
        "\n",
        "import gym\n",
        "from gym.wrappers import GrayScaleObservation, FrameStack, RecordVideo\n",
        "\n",
        "import os\n",
        "import logging\n",
        "import matplotlib.pyplot as plt\n",
        "\n",
        "torch.manual_seed(1)"
      ]
    },
    {
      "cell_type": "markdown",
      "source": [
        "# DQN Agent\n",
        "\n",
        "This class creates the evaluation and target networks and the experience replay mechanism. Both are suggested by the paper and should help the network better converge.\n",
        "\n",
        "The evaluation network computes the current action-value (Q) according to the current states, whereas the target network computes a hypothetical run based on the next states; the target network is only updated at a specified frequency as to ensure the network can converge and not chase a continuously moving target.\n",
        "\n",
        "The experience replay mechanism randomly samples previous transitions to minimize the issue of highly correlated data in reinforcement learning."
      ],
      "metadata": {
        "id": "kbOGaBy2OsYw"
      }
    },
    {
      "cell_type": "code",
      "execution_count": 10,
      "metadata": {
        "id": "coaKlpbOC5py"
      },
      "outputs": [],
      "source": [
        "class DQNAgent:\n",
        "    def __init__(\n",
        "            self, input_shape, action_shape, gamma, epsilon, learning_rate,\n",
        "            batch_size=32, memory_size=10000, epsilon_minimum=0.01,\n",
        "            epsilon_decrement=1e-5, target_replace_frequency=1000,\n",
        "            checkpoint_dir='temp/'\n",
        "    ):\n",
        "        self.gamma = gamma\n",
        "        self.epsilon = epsilon\n",
        "        self.batch_size = batch_size\n",
        "        self.epsilon_minimum = epsilon_minimum\n",
        "        self.epsilon_decrement = epsilon_decrement\n",
        "        self.target_replace_frequency = target_replace_frequency\n",
        "        self.checkpoint_dir = checkpoint_dir\n",
        "\n",
        "        self.action_space = [i for i in range(action_shape)]\n",
        "        self.batch_space = [i for i in range(self.batch_size)]\n",
        "        self.current_step = 0\n",
        "\n",
        "        self.replay_memory = Memory(memory_size, input_shape)\n",
        "        self.eval_network, self.target_network = self.create_networks(\n",
        "            input_shape, action_shape, learning_rate\n",
        "        )\n",
        "\n",
        "    def create_networks(self, *args, **kwargs):\n",
        "        return (\n",
        "            DeepQNetwork(*args, **kwargs, checkpoint_file=self.checkpoint_dir + 'dqn_eval'),\n",
        "            DeepQNetwork(*args, **kwargs, checkpoint_file=self.checkpoint_dir + 'dqn_target')\n",
        "        )\n",
        "\n",
        "    # Epsilon greedy policy\n",
        "    def choose_action(self, observation):\n",
        "        if np.random.random() < self.epsilon:\n",
        "            return np.random.choice(self.action_space)\n",
        "\n",
        "        state = torch.tensor([observation], dtype=torch.float)\n",
        "        state = state.to(self.eval_network.device)\n",
        "        actions = self.eval_network.forward(state)\n",
        "        return torch.argmax(actions).item()\n",
        "\n",
        "    # Check whether to update target network\n",
        "    def replace_target_network(self):\n",
        "        if self.current_step % self.target_replace_frequency == 0:\n",
        "            self.target_network.load_state_dict(self.eval_network.state_dict())\n",
        "\n",
        "    def decrement_epsilon(self):\n",
        "        if self.epsilon > self.epsilon_minimum:\n",
        "            self.epsilon -= self.epsilon_decrement\n",
        "        else:\n",
        "            self.epsilon = self.epsilon_minimum\n",
        "\n",
        "    def save_networks(self):\n",
        "        self.target_network.save_checkpoint()\n",
        "        self.eval_network.save_checkpoint()\n",
        "\n",
        "    def load_networks(self):\n",
        "        self.target_network.load_checkpoint()\n",
        "        self.eval_network.load_checkpoint()\n",
        "\n",
        "    def save_to_memory(self, state, action, reward, new_state, done):\n",
        "        self.replay_memory.save(state, action, reward, new_state, done)\n",
        "\n",
        "    def sample_memory(self):\n",
        "        state, action, reward, new_state, done = self.replay_memory.sample(self.batch_size)\n",
        "        return (\n",
        "            self.eval_network.to_tensor(state),\n",
        "            self.eval_network.to_tensor(action),\n",
        "            self.eval_network.to_tensor(reward),\n",
        "            self.eval_network.to_tensor(new_state),\n",
        "            self.eval_network.to_tensor(done)\n",
        "        )\n",
        "\n",
        "    def learn(self):\n",
        "\n",
        "        # Fill all the replay memory before starting\n",
        "        if self.replay_memory.memory_counter < self.batch_size * 10:\n",
        "            return\n",
        "\n",
        "        self.eval_network.optimizer.zero_grad()\n",
        "        self.replace_target_network()\n",
        "        states, actions, rewards, next_states, done_flags = self.sample_memory()\n",
        "\n",
        "        # For each item in batch we need the action_value of the specific action\n",
        "        action_values = self.eval_network.forward(states)\n",
        "        action_values = action_values[self.batch_space, actions]\n",
        "\n",
        "        # We need the next state max action values. We forward next_states,\n",
        "        # through the target network, take a max over the action dimension\n",
        "        # and return the first value of the tuple (value, indices)\n",
        "        # Doc here: https://pytorch.org/docs/master/generated/torch.max.html#torch.max\n",
        "        action_values_next = self.target_network.forward(next_states)\n",
        "        action_values_next = action_values_next.max(dim=1)[0]\n",
        "\n",
        "        # Mask everything that is done to zero\n",
        "        action_values_next[done_flags] = 0.0\n",
        "\n",
        "        # Calculate target action value using the equation:\n",
        "        action_value_target = rewards + self.gamma * action_values_next\n",
        "\n",
        "        # Propagate errors and step\n",
        "        self.eval_network.backward(action_value_target, action_values)\n",
        "        self.decrement_epsilon()\n",
        "        self.current_step += 1"
      ]
    },
    {
      "cell_type": "markdown",
      "source": [
        "# Modify Environment\n",
        "Several modifications were done on the environment to accomodate the proposed methodology in the paper, for training efficiency.\n",
        "\n",
        "\n",
        "* Repeat a single action four times instead of executing an action per frame\n",
        "* Use the maximum pixel value from the last two frames to prevent jitter\n",
        "* Convert RGB input into Grayscale\n",
        "* Resize raw frames to 84 x 84 then normalize\n",
        "* Stack the last four frames as the input to the Q-function\n",
        "\n",
        "\n",
        "\n"
      ],
      "metadata": {
        "id": "ykKD1hqtRMgs"
      }
    },
    {
      "cell_type": "code",
      "execution_count": 11,
      "metadata": {
        "id": "1yPuNalxDAl0"
      },
      "outputs": [],
      "source": [
        "class RepeatActionInFramesTakeMaxOfTwo(gym.Wrapper):\n",
        "    def __init__(self, env, repeat=4):\n",
        "        super().__init__(env)\n",
        "\n",
        "        self.repeat = repeat\n",
        "        self.shape = env.observation_space.low.shape\n",
        "        self.frames = collections.deque(maxlen=2)\n",
        "\n",
        "        if repeat <= 0:\n",
        "            raise ValueError('Repeat value needs to be 1 or higher')\n",
        "\n",
        "    def step(self, action):\n",
        "\n",
        "        total_reward = 0\n",
        "        done = False\n",
        "        info = {}\n",
        "\n",
        "        for i in range(self.repeat):\n",
        "            observation, reward, done, info = self.env.step(action)\n",
        "            total_reward += reward\n",
        "            self.frames.append(observation)\n",
        "\n",
        "            if done:\n",
        "                break\n",
        "\n",
        "        # Open queue into arguments for np.maximum\n",
        "        maximum_of_frames = np.maximum(*self.frames)\n",
        "        return maximum_of_frames, total_reward, done, info\n",
        "\n",
        "    def reset(self):\n",
        "        observation = self.env.reset()\n",
        "        self.frames.clear()\n",
        "        self.frames.append(observation)\n",
        "        return observation\n",
        "\n",
        "\n",
        "class NormResizeObservation(gym.ObservationWrapper):\n",
        "    def __init__(self, env, shape):\n",
        "        super().__init__(env)\n",
        "\n",
        "        self.shape = shape\n",
        "\n",
        "        # Create the new observation space for the env\n",
        "        # Since we are converting to grayscale we set low of 0 and high of 1\n",
        "        self.observation_space = gym.spaces.Box(\n",
        "            low=0.0, high=1.0, shape=self.shape, dtype=np.float32\n",
        "        )\n",
        "\n",
        "    def observation(self, observation):\n",
        "        \"\"\"Change from 255 grayscale to 0-1 scale\n",
        "        \"\"\"\n",
        "        observation = cv2.resize(observation, self.shape, interpolation=cv2.INTER_AREA)\n",
        "        return (observation / 255.0).reshape(self.shape)\n",
        "\n",
        "def prep_environment(env, shape, repeat):\n",
        "    env = RepeatActionInFramesTakeMaxOfTwo(env, repeat)\n",
        "    env = GrayScaleObservation(env)\n",
        "    env = NormResizeObservation(env, shape)\n",
        "    return FrameStack(env, num_stack=repeat)"
      ]
    },
    {
      "cell_type": "markdown",
      "source": [
        "# Replay Memory\n",
        "A part of the experience replay mechanism. It stores the agent's recent past experiences (current state, current action, current reward, and next state) at each times step."
      ],
      "metadata": {
        "id": "TcftGaMwSlMV"
      }
    },
    {
      "cell_type": "code",
      "execution_count": 12,
      "metadata": {
        "id": "RNWtt4o1DF-f"
      },
      "outputs": [],
      "source": [
        "class Memory:\n",
        "    def __init__(self, memory_size, input_shape):\n",
        "\n",
        "        # state, action, reward, next_state, done\n",
        "        memory_shape = [\n",
        "            ('state', np.float32, input_shape), ('action', np.int64),\n",
        "            ('reward', np.float32), ('next_state', np.float32, input_shape),\n",
        "            ('done', bool)\n",
        "        ]\n",
        "\n",
        "        # Numpy record structure array allows, different data types\n",
        "        # but with also batching ability\n",
        "        self.memory = np.zeros(memory_size, dtype=memory_shape)\n",
        "        self.memory_size = memory_size\n",
        "        self.memory_counter = 0\n",
        "\n",
        "    def save(self, state, action, reward, next_state, done):\n",
        "        \"\"\"Save the transition of the into the buffer\n",
        "        \"\"\"\n",
        "        index = self.memory_counter % self.memory_size\n",
        "        self.memory[index] = (state, action, reward, next_state, done)\n",
        "        self.memory_counter += 1\n",
        "\n",
        "    def sample(self, batch_size):\n",
        "        \"\"\"Return a sample of batch_size given from memory. We do not use replace\n",
        "        so the samples are unique.\n",
        "        \"\"\"\n",
        "        maximum_current_memory = min(self.memory_counter, self.memory_size)\n",
        "        indices = np.random.choice(maximum_current_memory, batch_size, replace=False)\n",
        "        batch = self.memory[indices]\n",
        "\n",
        "        return (\n",
        "            np.array(batch['state']),\n",
        "            np.array(batch['action']),\n",
        "            np.array(batch['reward']),\n",
        "            np.array(batch['next_state']),\n",
        "            np.array(batch['done'])\n",
        "        )"
      ]
    },
    {
      "cell_type": "markdown",
      "source": [
        "# Deep Q-Network\n",
        "\n",
        "Consists of 3 convolutional layers followed by 2 fully connected layers. Each layer, except the final FC, is equipped with a ReLU activation.\n"
      ],
      "metadata": {
        "id": "Kb0v030BSloK"
      }
    },
    {
      "cell_type": "code",
      "execution_count": 13,
      "metadata": {
        "id": "-35ZaOaxDN4U"
      },
      "outputs": [],
      "source": [
        "class DeepQNetwork(nn.Module):\n",
        "    def __init__(self, input_shape, output_shape, learning_rate, checkpoint_file):\n",
        "        super().__init__()\n",
        "\n",
        "        self.input_shape = input_shape\n",
        "        self.output_shape = output_shape\n",
        "        self.learning_rate = learning_rate\n",
        "        self.checkpoint_file = checkpoint_file\n",
        "\n",
        "        self.conv1 = nn.Conv2d(self.input_shape[0], 32, 8, stride=4) # input_dims[0] = channel\n",
        "        self.conv2 = nn.Conv2d(32, 64, 4, 2)\n",
        "        self.conv3 = nn.Conv2d(64, 64, 3, 1)\n",
        "\n",
        "        flattened_shape = self.calculate_flattened_shape(self.input_shape)\n",
        "\n",
        "        self.fc1 = nn.Linear(flattened_shape, 512)\n",
        "        self.fc2 = nn.Linear(512, output_shape)\n",
        "\n",
        "        self.loss = nn.MSELoss()\n",
        "        self.optimizer = optim.RMSprop(self.parameters(), lr=self.learning_rate)\n",
        "        self.device = self.get_device()\n",
        "        self.to(self.device)\n",
        "\n",
        "    @staticmethod\n",
        "    def get_device():\n",
        "        device_name = 'cuda:0' if torch.cuda.is_available() else 'cpu'\n",
        "        device = torch.device(device_name)\n",
        "        logging.info(f'Using device: {device}')\n",
        "        return device\n",
        "\n",
        "    def calculate_flattened_shape(self, input_shape):\n",
        "        x = torch.zeros(1, *input_shape)\n",
        "        x = self.conv1(x)\n",
        "        x = self.conv2(x)\n",
        "        x = self.conv3(x)\n",
        "        return int(np.prod(x.size()))\n",
        "\n",
        "    def save_checkpoint(self):\n",
        "        logging.info('Saving checkpoint')\n",
        "        torch.save(self.state_dict(), self.checkpoint_file)\n",
        "\n",
        "    def load_checkpoint(self):\n",
        "        logging.info('Loading checkpoint')\n",
        "        self.load_state_dict(torch.load(self.checkpoint_file))\n",
        "\n",
        "    def to_tensor(self, inputs):\n",
        "        return torch.tensor(inputs).to(self.device)\n",
        "\n",
        "    def forward(self, inputs):\n",
        "        # Convolutions\n",
        "        x = f.relu(self.conv1(inputs))\n",
        "        x = f.relu(self.conv2(x))\n",
        "        x = f.relu(self.conv3(x))\n",
        "        # Flatten\n",
        "        x = x.view(x.size()[0], -1)\n",
        "        # Linear layers\n",
        "        x = f.relu(self.fc1(x))\n",
        "        return self.fc2(x)\n",
        "\n",
        "    def backward(self, target, value):\n",
        "        loss = self.loss(target, value).to(self.device)\n",
        "        loss.backward()\n",
        "        self.optimizer.step()"
      ]
    },
    {
      "cell_type": "markdown",
      "source": [
        "# Main\n",
        "\n",
        "Save the target and evaluation network when a highest score is achieved.\n",
        "\n",
        "Record and save the environment of the final game.\n",
        "\n",
        "Log the score, (rolling) average score, and best score after each game/episode"
      ],
      "metadata": {
        "id": "5Vze3E9QVwPR"
      }
    },
    {
      "cell_type": "code",
      "execution_count": 14,
      "metadata": {
        "colab": {
          "base_uri": "https://localhost:8080/"
        },
        "id": "Qghb6IoGEsnm",
        "outputId": "17a878db-d177-4c02-e46c-a37d5db7a1b2"
      },
      "outputs": [
        {
          "metadata": {
            "tags": null
          },
          "name": "stderr",
          "output_type": "stream",
          "text": [
            "/usr/local/lib/python3.10/dist-packages/gym/core.py:317: DeprecationWarning: \u001b[33mWARN: Initializing wrapper in old step API which returns one bool instead of two. It is recommended to set `new_step_api=True` to use new step API. This will be the default behaviour in future.\u001b[0m\n",
            "  deprecation(\n",
            "/usr/local/lib/python3.10/dist-packages/gym/wrappers/step_api_compatibility.py:39: DeprecationWarning: \u001b[33mWARN: Initializing environment in old step API which returns one bool instead of two. It is recommended to set `new_step_api=True` to use new step API. This will be the default behaviour in future.\u001b[0m\n",
            "  deprecation(\n",
            "/usr/local/lib/python3.10/dist-packages/gym/utils/passive_env_checker.py:227: DeprecationWarning: \u001b[33mWARN: Core environment is written in old step API which returns one bool instead of two. It is recommended to rewrite the environment with new step API. \u001b[0m\n",
            "  logger.deprecation(\n",
            "/usr/local/lib/python3.10/dist-packages/gym/utils/passive_env_checker.py:233: DeprecationWarning: `np.bool8` is a deprecated alias for `np.bool_`.  (Deprecated NumPy 1.24)\n",
            "  if not isinstance(done, (bool, np.bool8)):\n",
            "<ipython-input-10-a699bca7fa89>:36: UserWarning: Creating a tensor from a list of numpy.ndarrays is extremely slow. Please consider converting the list to a single numpy.ndarray with numpy.array() before converting to a tensor. (Triggered internally at ../torch/csrc/utils/tensor_new.cpp:275.)\n",
            "  state = torch.tensor([observation], dtype=torch.float)\n"
          ]
        },
        {
          "output_type": "stream",
          "name": "stdout",
          "text": [
            "Ep: 0 | Score: 0.0 | Avg: 0.0 | Best: 0.0\n",
            "Ep: 1 | Score: 0.0 | Avg: 0.0 | Best: 0.0\n",
            "Ep: 2 | Score: 0.0 | Avg: 0.0 | Best: 0.0\n",
            "Ep: 3 | Score: 0.0 | Avg: 0.0 | Best: 0.0\n",
            "Ep: 4 | Score: 0.0 | Avg: 0.0 | Best: 0.0\n",
            "Ep: 5 | Score: 0.0 | Avg: 0.0 | Best: 0.0\n",
            "Ep: 6 | Score: 0.0 | Avg: 0.0 | Best: 0.0\n",
            "Ep: 7 | Score: 0.0 | Avg: 0.0 | Best: 0.0\n",
            "Ep: 8 | Score: 0.0 | Avg: 0.0 | Best: 0.0\n",
            "Ep: 9 | Score: 0.0 | Avg: 0.0 | Best: 0.0\n",
            "Ep: 10 | Score: 0.0 | Avg: 0.0 | Best: 0.0\n",
            "Ep: 11 | Score: 0.0 | Avg: 0.0 | Best: 0.0\n",
            "Ep: 12 | Score: 0.0 | Avg: 0.0 | Best: 0.0\n",
            "Ep: 13 | Score: 0.0 | Avg: 0.0 | Best: 0.0\n",
            "Ep: 14 | Score: 0.0 | Avg: 0.0 | Best: 0.0\n",
            "Ep: 15 | Score: 0.0 | Avg: 0.0 | Best: 0.0\n",
            "Ep: 16 | Score: 0.0 | Avg: 0.0 | Best: 0.0\n",
            "Ep: 17 | Score: 0.0 | Avg: 0.0 | Best: 0.0\n",
            "Ep: 18 | Score: 0.0 | Avg: 0.0 | Best: 0.0\n",
            "Ep: 19 | Score: 0.0 | Avg: 0.0 | Best: 0.0\n",
            "Ep: 20 | Score: 0.0 | Avg: 0.0 | Best: 0.0\n",
            "Ep: 21 | Score: 0.0 | Avg: 0.0 | Best: 0.0\n",
            "Ep: 22 | Score: 0.0 | Avg: 0.0 | Best: 0.0\n",
            "Ep: 23 | Score: 0.0 | Avg: 0.0 | Best: 0.0\n",
            "Ep: 24 | Score: 0.0 | Avg: 0.0 | Best: 0.0\n",
            "Ep: 25 | Score: 0.0 | Avg: 0.0 | Best: 0.0\n",
            "Ep: 26 | Score: 0.0 | Avg: 0.0 | Best: 0.0\n",
            "Ep: 27 | Score: 0.0 | Avg: 0.0 | Best: 0.0\n",
            "Ep: 28 | Score: 0.0 | Avg: 0.0 | Best: 0.0\n",
            "Ep: 29 | Score: 0.0 | Avg: 0.0 | Best: 0.0\n",
            "Ep: 30 | Score: 0.0 | Avg: 0.0 | Best: 0.0\n",
            "Ep: 31 | Score: 0.0 | Avg: 0.0 | Best: 0.0\n",
            "Ep: 32 | Score: 0.0 | Avg: 0.0 | Best: 0.0\n",
            "Ep: 33 | Score: 0.0 | Avg: 0.0 | Best: 0.0\n",
            "Ep: 34 | Score: 0.0 | Avg: 0.0 | Best: 0.0\n",
            "Ep: 35 | Score: 1.0 | Avg: 0.0 | Best: 0.0\n",
            "Ep: 36 | Score: 3.0 | Avg: 0.2 | Best: 1.0\n",
            "Ep: 37 | Score: 7.0 | Avg: 0.4 | Best: 3.0\n",
            "Ep: 38 | Score: 10.0 | Avg: 0.8 | Best: 7.0\n",
            "Ep: 39 | Score: 28.0 | Avg: 2.0 | Best: 10.0\n",
            "Ep: 40 | Score: 24.0 | Avg: 2.9 | Best: 28.0\n",
            "Ep: 41 | Score: 90.0 | Avg: 6.5 | Best: 28.0\n",
            "Ep: 42 | Score: 75.0 | Avg: 9.5 | Best: 90.0\n",
            "Ep: 43 | Score: 68.0 | Avg: 12.2 | Best: 90.0\n",
            "Ep: 44 | Score: 100.0 | Avg: 16.2 | Best: 90.0\n",
            "Ep: 45 | Score: 84.0 | Avg: 19.6 | Best: 100.0\n",
            "Ep: 46 | Score: 119.0 | Avg: 24.4 | Best: 100.0\n",
            "Ep: 47 | Score: 107.0 | Avg: 28.6 | Best: 119.0\n",
            "Ep: 48 | Score: 112.0 | Avg: 33.1 | Best: 119.0\n"
          ]
        },
        {
          "output_type": "stream",
          "name": "stderr",
          "text": [
            "/usr/local/lib/python3.10/dist-packages/gym/core.py:317: DeprecationWarning: \u001b[33mWARN: Initializing wrapper in old step API which returns one bool instead of two. It is recommended to set `new_step_api=True` to use new step API. This will be the default behaviour in future.\u001b[0m\n",
            "  deprecation(\n",
            "/usr/local/lib/python3.10/dist-packages/gym/wrappers/monitoring/video_recorder.py:78: DeprecationWarning: \u001b[33mWARN: Recording ability for environment EnduroNoFrameskip-v4 initialized with `render_mode=None` is marked as deprecated and will be removed in the future.\u001b[0m\n",
            "  logger.deprecation(\n",
            "/usr/local/lib/python3.10/dist-packages/gym/core.py:43: DeprecationWarning: \u001b[33mWARN: The argument mode in render method is deprecated; use render_mode during environment initialization instead.\n",
            "See here for more information: https://www.gymlibrary.ml/content/api/\u001b[0m\n",
            "  deprecation(\n",
            "/usr/local/lib/python3.10/dist-packages/gym/utils/passive_env_checker.py:297: UserWarning: \u001b[33mWARN: No render fps was declared in the environment (env.metadata['render_fps'] is None or not defined), rendering may occur at inconsistent fps.\u001b[0m\n",
            "  logger.warn(\n",
            "/usr/lib/python3.10/subprocess.py:1796: RuntimeWarning: os.fork() was called. os.fork() is incompatible with multithreaded code, and JAX is multithreaded, so this will likely lead to a deadlock.\n",
            "  self.pid = _posixsubprocess.fork_exec(\n",
            "/usr/local/lib/python3.10/dist-packages/gym/core.py:43: DeprecationWarning: \u001b[33mWARN: The argument mode in render method is deprecated; use render_mode during environment initialization instead.\n",
            "See here for more information: https://www.gymlibrary.ml/content/api/\u001b[0m\n",
            "  deprecation(\n"
          ]
        },
        {
          "output_type": "stream",
          "name": "stdout",
          "text": [
            "Ep: 49 | Score: 106.0 | Avg: 37.4 | Best: 119.0\n"
          ]
        }
      ],
      "source": [
        "if __name__ == '__main__':\n",
        "    repeat = 4\n",
        "    frame_shape = (84, 84)\n",
        "    gamma = 0.99                # discount factor\n",
        "    epsilon = 1                 # starting epsilon\n",
        "    learning_rate = 0.0002\n",
        "    games = 50\n",
        "    rolling_average_n = 25\n",
        "    directory = 'temp/'\n",
        "\n",
        "    if not os.path.exists(directory):\n",
        "        raise NotADirectoryError('Folder specified to save assets does not exist')\n",
        "\n",
        "    env = gym.make('EnduroNoFrameskip-v4')\n",
        "    env = prep_environment(env, frame_shape, repeat)\n",
        "\n",
        "    agent = DQNAgent(\n",
        "        input_shape=env.observation_space.shape,\n",
        "        action_shape=env.action_space.n,\n",
        "        gamma=gamma,\n",
        "        epsilon=epsilon,\n",
        "        learning_rate=learning_rate,\n",
        "        checkpoint_dir=directory\n",
        "    )\n",
        "\n",
        "    best_score = 0\n",
        "    scores, steps, rolling_means, epsilons = [], [], [], []\n",
        "    current_step = 0\n",
        "\n",
        "    for episode in range(games):\n",
        "\n",
        "        # Record video of last game\n",
        "        if episode == games - 1:\n",
        "            video_name = f'{directory}dqn_agent_enduro_video'\n",
        "            env = RecordVideo(env, video_name)\n",
        "\n",
        "        done = False\n",
        "        score = 0\n",
        "        observation = env.reset()\n",
        "\n",
        "        while not done:\n",
        "            action = agent.choose_action(observation)\n",
        "            new_observation, reward, done, info = env.step(action)\n",
        "            score += reward\n",
        "\n",
        "            agent.save_to_memory(observation, action, reward, new_observation, done)\n",
        "            agent.learn()\n",
        "            observation = new_observation\n",
        "            current_step += 1\n",
        "\n",
        "        scores.append(score)\n",
        "        steps.append(current_step)\n",
        "        epsilons.append(agent.epsilon)\n",
        "\n",
        "        rolling_mean = np.mean(scores[-rolling_average_n:])\n",
        "        rolling_means.append(rolling_mean)\n",
        "\n",
        "        # Log incremental progress\n",
        "        print(f\"Ep: {episode} | Score: {score} | Avg: {rolling_mean:.1f} | Best: {best_score:.1f}\")\n",
        "\n",
        "        if score > best_score:\n",
        "            best_score = score\n",
        "            agent.save_networks()"
      ]
    },
    {
      "cell_type": "markdown",
      "source": [
        "# Plot: Average Total Reward and Epsilon across Total Steps\n",
        "View the overall performance of the agent across 50 games"
      ],
      "metadata": {
        "id": "EXL4smpeV16k"
      }
    },
    {
      "cell_type": "code",
      "source": [
        "plot_name1 = f'{directory}avg_tot_reward.png'\n",
        "fig, ax = plt.subplots()\n",
        "ax.plot(steps, rolling_means, color=\"red\")\n",
        "ax.set_xlabel(\"steps\", fontsize=12)\n",
        "ax.set_ylabel(\"Average Total Reward\", color=\"red\", fontsize=12)\n",
        "plt.grid()\n",
        "ax2 = ax.twinx()\n",
        "ax2.plot(steps, epsilons, color=\"blue\")\n",
        "ax2.set_ylabel(\"Epsilon\", color=\"blue\", fontsize=12)\n",
        "fig.savefig(plot_name1)"
      ],
      "metadata": {
        "colab": {
          "base_uri": "https://localhost:8080/",
          "height": 509
        },
        "id": "WhJjEWQvP9iV",
        "outputId": "95664adb-f1e3-4f7e-cbd1-77a65b46ce7f"
      },
      "execution_count": 15,
      "outputs": [
        {
          "output_type": "stream",
          "name": "stderr",
          "text": [
            "/usr/local/lib/python3.10/dist-packages/ipykernel/ipkernel.py:283: DeprecationWarning: `should_run_async` will not call `transform_cell` automatically in the future. Please pass the result to `transformed_cell` argument and any exception that happen during thetransform in `preprocessing_exc_tuple` in IPython 7.17 and above.\n",
            "  and should_run_async(code)\n"
          ]
        },
        {
          "output_type": "display_data",
          "data": {
            "text/plain": [
              "<Figure size 640x480 with 2 Axes>"
            ],
            "image/png": "[encoded data removed]"
          },
          "metadata": {}
        }
      ]
    },
    {
      "cell_type": "markdown",
      "source": [
        "# Plot: Total Reward and Epsilon across Total Steps\n",
        "Check for fluctutuations in agent's performance across 50 games"
      ],
      "metadata": {
        "id": "xQBT5ySPWMfk"
      }
    },
    {
      "cell_type": "code",
      "source": [
        "plot_name2 = f'{directory}tot_reward_plot.png'\n",
        "fig, ax = plt.subplots()\n",
        "ax.plot(steps, scores, color=\"red\")\n",
        "ax.set_xlabel(\"steps\", fontsize=12)\n",
        "ax.set_ylabel(\"Total Reward\", color=\"red\", fontsize=12)\n",
        "plt.grid()\n",
        "ax2 = ax.twinx()\n",
        "ax2.plot(steps, epsilons, color=\"blue\")\n",
        "ax2.set_ylabel(\"Epsilon\", color=\"blue\", fontsize=12)\n",
        "fig.savefig(plot_name2)"
      ],
      "metadata": {
        "colab": {
          "base_uri": "https://localhost:8080/",
          "height": 509
        },
        "id": "OhgBdTaCN2oY",
        "outputId": "55a88cf6-a604-4c4a-abe1-f2377ca300f4"
      },
      "execution_count": 19,
      "outputs": [
        {
          "output_type": "stream",
          "name": "stderr",
          "text": [
            "/usr/local/lib/python3.10/dist-packages/ipykernel/ipkernel.py:283: DeprecationWarning: `should_run_async` will not call `transform_cell` automatically in the future. Please pass the result to `transformed_cell` argument and any exception that happen during thetransform in `preprocessing_exc_tuple` in IPython 7.17 and above.\n",
            "  and should_run_async(code)\n"
          ]
        },
        {
          "output_type": "display_data",
          "data": {
            "text/plain": [
              "<Figure size 640x480 with 2 Axes>"
            ],
            "image/png": "[encoded data removed]"
          },
          "metadata": {}
        }
      ]
    },
    {
      "cell_type": "markdown",
      "source": [
        "# Plot: Total and Average Reward across Total Steps"
      ],
      "metadata": {
        "id": "U7XL7UkNafyP"
      }
    },
    {
      "cell_type": "code",
      "source": [
        "plot_name3 = f'{directory}combined_plot.png'\n",
        "fig, ax = plt.subplots()\n",
        "ax.plot(steps, scores, color=\"red\")\n",
        "ax.set_xlabel(\"Steps\", fontsize=12)\n",
        "ax.set_ylabel(\"Total Reward\", color=\"red\", fontsize=12)\n",
        "plt.grid()\n",
        "ax2 = ax.twinx()\n",
        "ax2.plot(steps, rolling_means, color=\"blue\")\n",
        "ax2.set_ylabel(\"Average Total Reward\", color=\"blue\", fontsize=12)\n",
        "plt.title(\"Reward History over 50 games (25 rolling average)\")\n",
        "fig.savefig(plot_name3)"
      ],
      "metadata": {
        "id": "k8LHa_BJERSF",
        "colab": {
          "base_uri": "https://localhost:8080/",
          "height": 476
        },
        "outputId": "c3807586-76f3-438b-a74f-935610e8b13a"
      },
      "execution_count": 23,
      "outputs": [
        {
          "output_type": "display_data",
          "data": {
            "text/plain": [
              "<Figure size 640x480 with 2 Axes>"
            ],
            "image/png": "[encoded data removed]"
          },
          "metadata": {}
        }
      ]
    }
  ],
  "metadata": {
    "accelerator": "GPU",
    "colab": {
      "gpuType": "T4",
      "provenance": []
    },
    "kernelspec": {
      "display_name": "Python 3",
      "language": "python",
      "name": "python3"
    },
    "language_info": {
      "codemirror_mode": {
        "name": "ipython",
        "version": 3
      },
      "file_extension": ".py",
      "mimetype": "text/x-python",
      "name": "python",
      "nbconvert_exporter": "python",
      "pygments_lexer": "ipython3",
      "version": "3.8.5"
    }
  },
  "nbformat": 4,
  "nbformat_minor": 0
}